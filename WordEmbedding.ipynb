{
  "nbformat": 4,
  "nbformat_minor": 0,
  "metadata": {
    "colab": {
      "name": "Untitled3.ipynb",
      "provenance": [],
      "collapsed_sections": []
    },
    "kernelspec": {
      "name": "python3",
      "display_name": "Python 3"
    }
  },
  "cells": [
    {
      "cell_type": "code",
      "metadata": {
        "id": "jTFp798aQmQ0"
      },
      "source": [
        "import numpy as np\r\n",
        "import matplotlib.pyplot as plt\r\n",
        "import pandas as pd\r\n",
        "import re, os, string"
      ],
      "execution_count": 1,
      "outputs": []
    },
    {
      "cell_type": "code",
      "metadata": {
        "id": "2K48he7qcg2Z"
      },
      "source": [
        "url = 'https://raw.githubusercontent.com/LocLinh/Word-Embedding/main/sample.csv'"
      ],
      "execution_count": 2,
      "outputs": []
    },
    {
      "cell_type": "code",
      "metadata": {
        "id": "O4P1oWBgRtq_"
      },
      "source": [
        "# Đọc input\r\n",
        "texts = pd.read_csv(url)\r\n",
        "corpus = [x for x in texts['text']]"
      ],
      "execution_count": 4,
      "outputs": []
    },
    {
      "cell_type": "code",
      "metadata": {
        "colab": {
          "base_uri": "https://localhost:8080/"
        },
        "id": "rxrPgoqPeZLi",
        "outputId": "fb6da3cf-4017-4895-90e6-c257151cd96c"
      },
      "source": [
        "print(corpus)"
      ],
      "execution_count": 5,
      "outputs": [
        {
          "output_type": "stream",
          "text": [
            "['The future king is the prince', 'Daughter is the princess ', 'Son is the prince', 'Only a man can be a king ', 'Only a woman can be a queen', 'The princess will be a queen', 'Queen and king rule the realm', 'The prince is a strong man', 'The princess is a beautiful woman ', 'The royal family is the king and queen and their children', 'Prince is only a boy now', 'A boy will be a man']\n"
          ],
          "name": "stdout"
        }
      ]
    },
    {
      "cell_type": "code",
      "metadata": {
        "id": "HQQitzD_RwNG"
      },
      "source": [
        "#Loại stopword\r\n",
        "stopwords_file = 'https://raw.githubusercontent.com/LocLinh/Word-Embedding/main/englishstopwords.csv'\r\n",
        "data = pd.read_csv(stopwords_file, sep=\"\\t\", encoding='utf-8')\r\n",
        "list_stopwords = [y for y in data['stopwords']]\r\n",
        "def remove_stopword(text):\r\n",
        "    pre_text = []\r\n",
        "    words = text.split()\r\n",
        "    for word in words:\r\n",
        "        if word not in list_stopwords:\r\n",
        "            pre_text.append(word)\r\n",
        "        text2 = ' '.join(pre_text)\r\n",
        "    return text2"
      ],
      "execution_count": 16,
      "outputs": []
    },
    {
      "cell_type": "code",
      "metadata": {
        "id": "R30Cgeupf7Px"
      },
      "source": [
        "# chuẩn hóa dữ liệu\r\n",
        "def normalize_text(text):\r\n",
        "    listpunctuation = string.punctuation.replace('_', '')\r\n",
        "    for i in listpunctuation:\r\n",
        "        text = text.replace(i, ' ')\r\n",
        "    return text.lower()\r\n"
      ],
      "execution_count": 18,
      "outputs": []
    },
    {
      "cell_type": "code",
      "metadata": {
        "id": "kc34UoclXvOP"
      },
      "source": [
        "corpus2 =[]\r\n",
        "for sentences in corpus:\r\n",
        "    sentences = remove_stopword(normalize_text(sentences))\r\n",
        "    corpus2.append(sentences)\r\n",
        "corpus = corpus2"
      ],
      "execution_count": 19,
      "outputs": []
    },
    {
      "cell_type": "code",
      "metadata": {
        "id": "3BQ7swKCXw4i"
      },
      "source": [
        "words = []\r\n",
        "for sentences in corpus:\r\n",
        "    words.extend(sentences.split())\r\n",
        "words = list(set(words))\r\n",
        "words.sort()\r\n",
        "\r\n",
        "X = np.zeros([len(words), len(words)])"
      ],
      "execution_count": 20,
      "outputs": []
    },
    {
      "cell_type": "code",
      "metadata": {
        "id": "-IAsnhu9X0k8"
      },
      "source": [
        "# thống kê số lần đồng xuất hiện (xuất hiện liền kề) của một từ so với các từ khác\r\n",
        "for sentences in corpus:\r\n",
        "    tokens = sentences.split()\r\n",
        "    for i, token in enumerate(tokens):\r\n",
        "        if(i == 0):\r\n",
        "            X[words.index(token), words.index(tokens[i + 1])] += 1\r\n",
        "        elif(i == len(tokens) - 1):\r\n",
        "            X[words.index(token), words.index(tokens[i - 1])] += 1\r\n",
        "        else:\r\n",
        "            X[words.index(token), words.index(tokens[i + 1])] += 1\r\n",
        "            X[words.index(token), words.index(tokens[i - 1])] += 1\r\n"
      ],
      "execution_count": 22,
      "outputs": []
    },
    {
      "cell_type": "code",
      "metadata": {
        "colab": {
          "base_uri": "https://localhost:8080/"
        },
        "id": "YCkFbC7QkTyJ",
        "outputId": "acf5ed1d-eb3d-42cd-b8ff-9ea60724c3e0"
      },
      "source": [
        "print(words)\r\n",
        "print(X)"
      ],
      "execution_count": 41,
      "outputs": [
        {
          "output_type": "stream",
          "text": [
            "['beautiful', 'boy', 'can', 'children', 'daughter', 'family', 'future', 'king', 'man', 'now', 'prince', 'princess', 'queen', 'realm', 'royal', 'rule', 'son', 'strong', 'will', 'woman']\n",
            "[[0. 0. 0. 0. 0. 0. 0. 0. 0. 0. 0. 1. 0. 0. 0. 0. 0. 0. 0. 1.]\n",
            " [0. 0. 0. 0. 0. 0. 0. 0. 0. 1. 1. 0. 0. 0. 0. 0. 0. 0. 1. 0.]\n",
            " [0. 0. 0. 0. 0. 0. 0. 1. 1. 0. 0. 0. 1. 0. 0. 0. 0. 0. 0. 1.]\n",
            " [0. 0. 0. 0. 0. 0. 0. 0. 0. 0. 0. 0. 1. 0. 0. 0. 0. 0. 0. 0.]\n",
            " [0. 0. 0. 0. 0. 0. 0. 0. 0. 0. 0. 1. 0. 0. 0. 0. 0. 0. 0. 0.]\n",
            " [0. 0. 0. 0. 0. 0. 0. 1. 0. 0. 0. 0. 0. 0. 1. 0. 0. 0. 0. 0.]\n",
            " [0. 0. 0. 0. 0. 0. 0. 1. 0. 0. 0. 0. 0. 0. 0. 0. 0. 0. 0. 0.]\n",
            " [0. 0. 1. 0. 0. 1. 1. 0. 0. 0. 1. 0. 2. 0. 0. 1. 0. 0. 0. 0.]\n",
            " [0. 0. 1. 0. 0. 0. 0. 0. 0. 0. 0. 0. 0. 0. 0. 0. 0. 1. 1. 0.]\n",
            " [0. 1. 0. 0. 0. 0. 0. 0. 0. 0. 0. 0. 0. 0. 0. 0. 0. 0. 0. 0.]\n",
            " [0. 1. 0. 0. 0. 0. 0. 1. 0. 0. 0. 0. 0. 0. 0. 0. 1. 1. 0. 0.]\n",
            " [1. 0. 0. 0. 1. 0. 0. 0. 0. 0. 0. 0. 0. 0. 0. 0. 0. 0. 1. 0.]\n",
            " [0. 0. 1. 1. 0. 0. 0. 2. 0. 0. 0. 0. 0. 0. 0. 0. 0. 0. 1. 0.]\n",
            " [0. 0. 0. 0. 0. 0. 0. 0. 0. 0. 0. 0. 0. 0. 0. 1. 0. 0. 0. 0.]\n",
            " [0. 0. 0. 0. 0. 1. 0. 0. 0. 0. 0. 0. 0. 0. 0. 0. 0. 0. 0. 0.]\n",
            " [0. 0. 0. 0. 0. 0. 0. 1. 0. 0. 0. 0. 0. 1. 0. 0. 0. 0. 0. 0.]\n",
            " [0. 0. 0. 0. 0. 0. 0. 0. 0. 0. 1. 0. 0. 0. 0. 0. 0. 0. 0. 0.]\n",
            " [0. 0. 0. 0. 0. 0. 0. 0. 1. 0. 1. 0. 0. 0. 0. 0. 0. 0. 0. 0.]\n",
            " [0. 1. 0. 0. 0. 0. 0. 0. 1. 0. 0. 1. 1. 0. 0. 0. 0. 0. 0. 0.]\n",
            " [1. 0. 1. 0. 0. 0. 0. 0. 0. 0. 0. 0. 0. 0. 0. 0. 0. 0. 0. 0.]]\n"
          ],
          "name": "stdout"
        }
      ]
    },
    {
      "cell_type": "code",
      "metadata": {
        "id": "8cg1_ckPRrFD"
      },
      "source": [
        "# sử dụng phương pháp svd để tìm ra word vector của từ\r\n",
        "la = np.linalg"
      ],
      "execution_count": 23,
      "outputs": []
    },
    {
      "cell_type": "code",
      "metadata": {
        "id": "EBL0FjGCX3pa"
      },
      "source": [
        "U, s, Vh = la.svd(X, full_matrices=False)"
      ],
      "execution_count": 24,
      "outputs": []
    },
    {
      "cell_type": "code",
      "metadata": {
        "colab": {
          "base_uri": "https://localhost:8080/"
        },
        "id": "fWTPdITom6-7",
        "outputId": "d60466cd-b4d2-458a-cd69-86e5b463988c"
      },
      "source": [
        "# vector mỗi từ\r\n",
        "for i in range(len(words)):\r\n",
        "  print(words[i], U[i])"
      ],
      "execution_count": 43,
      "outputs": [
        {
          "output_type": "stream",
          "text": [
            "beautiful [-5.35390987e-02 -3.45298780e-02  2.14701116e-01  2.40312418e-01\n",
            "  9.92444743e-02  3.33938426e-01  4.93948583e-01  1.82589923e-01\n",
            "  2.20854450e-01  3.89143010e-01 -1.69057968e-16  1.13592796e-15\n",
            "  6.65304255e-02  2.06648139e-01 -5.15546880e-02 -2.55226792e-01\n",
            "  9.96719095e-02  1.02173656e-01 -2.81411016e-01  2.80539795e-01]\n",
            "boy [-1.39194741e-01 -1.34282831e-02 -3.20722396e-01  3.54319811e-01\n",
            "  4.24078717e-01 -3.46598466e-01  1.39436205e-01  1.84969131e-01\n",
            "  2.20178898e-01 -1.85403482e-01  1.49595136e-16 -6.60367195e-16\n",
            " -1.43415069e-01  2.24689745e-01 -3.51612156e-01  3.39117836e-01\n",
            "  6.31437486e-02 -4.34064772e-02 -1.15215612e-16  8.47145581e-17]\n",
            "can [-3.65300751e-01 -1.16031542e-02  3.89247294e-01 -2.49890400e-02\n",
            "  2.94679793e-01  2.26780882e-01 -2.41151805e-01 -3.69966327e-01\n",
            "  3.75836783e-01  1.35225768e-01 -3.64171375e-16  5.86648022e-16\n",
            "  1.08658128e-01  8.53018138e-02 -1.76243257e-01  4.91527138e-02\n",
            " -7.46531115e-02 -7.36207271e-02  2.81411016e-01 -2.80539795e-01]\n",
            "children [-1.33744441e-01 -1.66987577e-01  6.66335074e-02 -6.21214686e-02\n",
            " -4.76928171e-02  8.22814029e-02 -1.37640316e-01 -3.47375053e-02\n",
            "  1.94637463e-01 -2.69845980e-01  3.83000905e-16 -1.42388357e-15\n",
            " -3.10872795e-01  1.57034990e-01  1.82509170e-01  9.89635799e-02\n",
            " -3.52750612e-01  5.29481939e-01  1.00619896e-01  4.76148865e-01]\n",
            "daughter [-2.33434728e-02 -2.98438729e-02  1.21433211e-01  1.92513503e-01\n",
            " -6.73454256e-03  1.68393769e-01  3.79725957e-01  2.86283318e-01\n",
            " -1.55829948e-01  3.84221430e-02  3.89333329e-16 -1.40995381e-15\n",
            " -1.16490245e-01 -1.32707131e-01  3.05938581e-01  2.50782976e-01\n",
            " -1.05939884e-01 -1.42065498e-01  6.63441929e-01 -8.49307251e-02]\n",
            "family [-1.60480402e-01  2.19221082e-01  1.10283878e-01 -1.89892914e-01\n",
            "  1.08822112e-01 -3.79331517e-02 -6.58711578e-02  2.44428290e-01\n",
            " -5.35624210e-02  1.25071804e-01  4.78641474e-02  7.05484956e-01\n",
            " -3.86483372e-01 -2.68485223e-01 -1.86440952e-01 -1.15407908e-01\n",
            "  7.76637668e-02  8.07740973e-02 -8.62553884e-17  2.70681596e-16]\n",
            "future [-1.48910810e-01  1.96953500e-01  9.32527114e-02 -1.47739222e-01\n",
            "  7.95452650e-02 -2.67339109e-02 -3.61082126e-02  1.09162596e-01\n",
            " -1.97490730e-02  4.14182890e-02  3.57951158e-17 -2.51659335e-15\n",
            "  1.72784299e-02  4.35952367e-02  1.06148980e-01  1.67973337e-01\n",
            " -5.60599766e-01 -6.10160180e-01 -2.81411016e-01  2.80539795e-01]\n",
            "king [-5.54597881e-01 -6.17971326e-01 -2.37298657e-01 -3.13568466e-01\n",
            " -1.53359526e-01 -4.92014235e-02  5.37174869e-02  1.46742448e-01\n",
            "  2.48560852e-02  5.06442057e-02  4.70785927e-17 -1.25420407e-16\n",
            " -1.69046844e-02  4.04357912e-02  8.47338214e-02 -1.07194520e-01\n",
            "  1.95551937e-01 -2.08622694e-01  9.94489633e-17 -8.21843463e-17]\n",
            "man [-1.95342359e-01  1.15726204e-01 -3.46314077e-01  2.90929429e-01\n",
            " -3.02396194e-01  1.04696163e-02  2.70201331e-01 -4.57985276e-01\n",
            "  2.21180462e-01  1.58133248e-02  4.79174341e-16 -3.46181468e-15\n",
            " -2.14489672e-01 -4.21731728e-01 -8.57389497e-02 -1.83935151e-01\n",
            " -2.20836857e-01 -8.10958735e-02  1.22452712e-16 -2.17135926e-17]\n",
            "now [-3.73741091e-02  4.27972504e-03  1.26036251e-01  1.66939405e-01\n",
            " -2.19963212e-01 -1.88326513e-01 -9.37272465e-02  1.37599658e-01\n",
            " -1.74940225e-01 -1.51628304e-01 -4.55588988e-16  4.13256504e-16\n",
            "  1.46585832e-01  2.42245850e-01 -4.40476673e-01 -5.31396144e-01\n",
            " -1.81017745e-01 -1.26951212e-01  3.82030912e-01  1.95609070e-01]\n",
            "prince [-2.34125710e-01  2.67288336e-01  2.39904669e-01  1.50680950e-01\n",
            " -4.80098348e-01 -5.17595025e-01 -8.04417802e-02  6.25987122e-02\n",
            "  2.09692873e-01  2.95045777e-01 -2.14540167e-16  1.52801070e-15\n",
            "  5.52724473e-02  1.54270095e-01  2.19238013e-01  2.08407407e-01\n",
            "  1.65614313e-01  8.88263150e-02 -1.31144621e-16  5.72247031e-17]\n",
            "princess [-8.69395615e-02  9.36396548e-02 -3.09009116e-01  4.08599441e-01\n",
            "  1.29838810e-02  3.09913996e-01 -5.64910934e-01  3.84837997e-01\n",
            "  1.96126798e-01  4.69806686e-02  1.42973688e-17  7.97534921e-16\n",
            "  1.13970473e-01 -1.23089545e-01  2.44216619e-01 -1.60040642e-01\n",
            "  3.69546166e-02 -4.85742726e-02 -1.33176832e-17 -1.35711952e-16]\n",
            "queen [-4.98112819e-01  5.23948722e-01 -1.69561201e-01 -1.31849439e-01\n",
            "  9.19495062e-02  1.51431721e-01  2.04764826e-01 -4.66960912e-02\n",
            " -2.44969743e-01 -3.29954125e-01 -5.84659889e-16  3.45481073e-15\n",
            "  3.04148381e-01  1.45654309e-01  1.45688629e-01 -6.31549841e-02\n",
            "  1.23048687e-01  1.81037623e-01 -7.60699789e-17  1.36315136e-16]\n",
            "realm [-4.30893581e-02 -6.98679009e-02 -4.33389335e-02 -8.94689183e-02\n",
            " -5.64443823e-02 -2.06112227e-02  4.42777558e-02  1.81831687e-01\n",
            "  4.25573118e-02  1.02287321e-01  7.05484956e-01 -4.78641474e-02\n",
            "  3.95028129e-01 -2.89463282e-01 -2.33561010e-01  1.80843681e-01\n",
            " -2.22643100e-01  2.36240540e-01 -7.36055514e-17  5.22035397e-18]\n",
            "royal [-4.30893581e-02 -6.98679009e-02 -4.33389335e-02 -8.94689183e-02\n",
            " -5.64443823e-02 -2.06112227e-02  4.42777558e-02  1.81831687e-01\n",
            "  4.25573118e-02  1.02287321e-01 -7.05484956e-01  4.78641474e-02\n",
            "  3.95028129e-01 -2.89463282e-01 -2.33561010e-01  1.80843681e-01\n",
            " -2.22643100e-01  2.36240540e-01 -1.06565297e-16  1.16242656e-16]\n",
            "rule [-1.60480402e-01  2.19221082e-01  1.10283878e-01 -1.89892914e-01\n",
            "  1.08822112e-01 -3.79331517e-02 -6.58711578e-02  2.44428290e-01\n",
            " -5.35624210e-02  1.25071804e-01 -4.78641474e-02 -7.05484956e-01\n",
            " -3.86483372e-01 -2.68485223e-01 -1.86440952e-01 -1.15407908e-01\n",
            "  7.76637668e-02  8.07740973e-02  3.86447019e-17  2.08814159e-17]\n",
            "son [-6.28632931e-02 -8.51874044e-02 -9.42768122e-02  7.09940215e-02\n",
            "  2.49019746e-01 -2.81238596e-01  5.40719432e-02  4.65675615e-02\n",
            " -1.66608693e-01  2.41296928e-01  5.13211659e-17 -4.48863726e-16\n",
            " -5.64944653e-02  1.66323970e-01  2.74647020e-01 -3.26573483e-01\n",
            " -4.74775892e-01  2.59790914e-01 -1.00619896e-01 -4.76148865e-01]\n",
            "strong [-1.15313167e-01 -1.22070476e-01  4.18163589e-02  2.08066758e-01\n",
            "  4.05868075e-01 -2.75549863e-01 -1.27553960e-01 -2.94130462e-01\n",
            " -3.42344698e-01  2.54229520e-01 -2.48826351e-16  9.43711694e-16\n",
            "  1.62737357e-01 -2.88359714e-01  1.67238881e-01 -3.83479173e-02\n",
            "  1.58309581e-01  2.26092736e-02  1.00619896e-01  4.76148865e-01]\n",
            "will [-2.46911897e-01 -2.29434797e-01  4.50196141e-01  4.34404176e-01\n",
            " -1.17542243e-01  6.80373930e-02 -3.32675089e-02  4.84474480e-02\n",
            " -3.11868715e-01 -3.70119548e-01  2.61421837e-16 -7.08651243e-16\n",
            " -6.15453860e-02 -1.88109975e-01 -5.94370612e-02  1.06575977e-01\n",
            " -6.62276753e-03  2.32835877e-02 -3.82030912e-01 -1.95609070e-01]\n",
            "woman [-1.12459466e-01  1.47030481e-02 -2.37337318e-01  1.01450598e-01\n",
            " -2.04322555e-01  3.04670454e-01 -1.69926784e-01 -1.39390443e-01\n",
            " -4.74093110e-01  4.28843878e-01 -1.42973688e-17 -7.96781393e-16\n",
            " -1.79061795e-01  3.14761426e-01 -2.85370342e-01  3.22917167e-01\n",
            " -7.17227991e-02  8.35089407e-02 -4.10732588e-17  5.85770775e-17]\n"
          ],
          "name": "stdout"
        }
      ]
    },
    {
      "cell_type": "code",
      "metadata": {
        "colab": {
          "base_uri": "https://localhost:8080/",
          "height": 265
        },
        "id": "lCyGTiiCX51K",
        "outputId": "eff3ee6a-a860-4d26-c2ba-d71c66fbc68d"
      },
      "source": [
        "# thể hiện mỗi từ trên đồ thị dùng 2 chiều của vector\r\n",
        "for i in range(len(words)):\r\n",
        "    plt.scatter(U[i, 0],U[i, 1])\r\n",
        "    plt.text(U[i, 0], U[i, 1], words[i])\r\n",
        "\r\n",
        "plt.show()"
      ],
      "execution_count": 40,
      "outputs": [
        {
          "output_type": "display_data",
          "data": {
            "image/png": "[encoded data removed]",
            "text/plain": [
              "<Figure size 432x288 with 1 Axes>"
            ]
          },
          "metadata": {
            "tags": [],
            "needs_background": "light"
          }
        }
      ]
    }
  ]
}